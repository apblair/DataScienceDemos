{
 "cells": [
  {
   "cell_type": "code",
   "execution_count": 66,
   "metadata": {},
   "outputs": [],
   "source": [
    "import matplotlib.pyplot as plt\n",
    "from sklearn import datasets\n",
    "import pandas as pd\n",
    "import numpy as np\n",
    "import scipy.stats as stats\n",
    "import pylab as py \n",
    "import statsmodels.api as sm "
   ]
  },
  {
   "cell_type": "markdown",
   "metadata": {},
   "source": [
    "### Data prep"
   ]
  },
  {
   "cell_type": "code",
   "execution_count": 99,
   "metadata": {},
   "outputs": [],
   "source": [
    "iris = datasets.load_iris()\n",
    "names = iris.get('target_names')\n",
    "df = pd.DataFrame(data= np.c_[iris['data'], iris['target']],\n",
    "                     columns= iris['feature_names'] + ['target'])\n",
    "df[\"target\"] = pd.Categorical(pd.Series(iris.target).map(lambda x: iris.target_names[x]))"
   ]
  },
  {
   "cell_type": "markdown",
   "metadata": {},
   "source": [
    "## One-Sided F-test\n",
    "\n",
    "F-statistic = $\\frac{variance between groups}{variance within groups}$\n",
    "\n",
    "* F-test compares the means of various groups and determines if they are equal by looking at their variance. This is done by checking the variations between the groups and within the groups.\n",
    "\n",
    "* Goal is to determine that each group's mean value are stastically different from the other's, and to do this we need to evaluate the variability between each of the mean values.\n",
    "\n",
    "* The null hypothesis asserts that each group's mean value is not statistically different.\n",
    "\n",
    "* Rejecting the null hypothesis means that there are at least two group means that are statistically significantly different. \n",
    "\n",
    "* The F-statistic will always be positive, as it is not possible for it to be negative as it is computed from the ratio of two variances. "
   ]
  },
  {
   "cell_type": "markdown",
   "metadata": {},
   "source": [
    "### Data exploration"
   ]
  },
  {
   "cell_type": "code",
   "execution_count": 49,
   "metadata": {},
   "outputs": [
    {
     "data": {
      "text/plain": [
       "sepal length (cm)    5.843333\n",
       "sepal width (cm)     3.057333\n",
       "petal length (cm)    3.758000\n",
       "petal width (cm)     1.199333\n",
       "dtype: float64"
      ]
     },
     "execution_count": 49,
     "metadata": {},
     "output_type": "execute_result"
    }
   ],
   "source": [
    "# 1. What is the overall mean?\n",
    "df.mean()"
   ]
  },
  {
   "cell_type": "code",
   "execution_count": 50,
   "metadata": {},
   "outputs": [
    {
     "data": {
      "text/html": [
       "<div>\n",
       "<style scoped>\n",
       "    .dataframe tbody tr th:only-of-type {\n",
       "        vertical-align: middle;\n",
       "    }\n",
       "\n",
       "    .dataframe tbody tr th {\n",
       "        vertical-align: top;\n",
       "    }\n",
       "\n",
       "    .dataframe thead th {\n",
       "        text-align: right;\n",
       "    }\n",
       "</style>\n",
       "<table border=\"1\" class=\"dataframe\">\n",
       "  <thead>\n",
       "    <tr style=\"text-align: right;\">\n",
       "      <th></th>\n",
       "      <th>sepal length (cm)</th>\n",
       "      <th>sepal width (cm)</th>\n",
       "      <th>petal length (cm)</th>\n",
       "      <th>petal width (cm)</th>\n",
       "    </tr>\n",
       "    <tr>\n",
       "      <th>target</th>\n",
       "      <th></th>\n",
       "      <th></th>\n",
       "      <th></th>\n",
       "      <th></th>\n",
       "    </tr>\n",
       "  </thead>\n",
       "  <tbody>\n",
       "    <tr>\n",
       "      <th>setosa</th>\n",
       "      <td>5.006</td>\n",
       "      <td>3.428</td>\n",
       "      <td>1.462</td>\n",
       "      <td>0.246</td>\n",
       "    </tr>\n",
       "    <tr>\n",
       "      <th>versicolor</th>\n",
       "      <td>5.936</td>\n",
       "      <td>2.770</td>\n",
       "      <td>4.260</td>\n",
       "      <td>1.326</td>\n",
       "    </tr>\n",
       "    <tr>\n",
       "      <th>virginica</th>\n",
       "      <td>6.588</td>\n",
       "      <td>2.974</td>\n",
       "      <td>5.552</td>\n",
       "      <td>2.026</td>\n",
       "    </tr>\n",
       "  </tbody>\n",
       "</table>\n",
       "</div>"
      ],
      "text/plain": [
       "            sepal length (cm)  sepal width (cm)  petal length (cm)  \\\n",
       "target                                                               \n",
       "setosa                  5.006             3.428              1.462   \n",
       "versicolor              5.936             2.770              4.260   \n",
       "virginica               6.588             2.974              5.552   \n",
       "\n",
       "            petal width (cm)  \n",
       "target                        \n",
       "setosa                 0.246  \n",
       "versicolor             1.326  \n",
       "virginica              2.026  "
      ]
     },
     "execution_count": 50,
     "metadata": {},
     "output_type": "execute_result"
    }
   ],
   "source": [
    "# 2. What are the means of each group?\n",
    "df.groupby('target').mean()"
   ]
  },
  {
   "cell_type": "markdown",
   "metadata": {},
   "source": [
    "## Assumptions of the F-test\n",
    "\n",
    "* If samples are drawn from normal distributions, the sample variance has a scaled chi square distribution.\n",
    "\n",
    "* The sampling distribution of a sample variance is directly affected by kurtosis (the sharpness of the peak of a frequency-distribution curve) of the underlying distribution. The flatter or skinnier our sample distribution, the more likely the chi-squared distribution will provide an incorrect answer.\n",
    "\n",
    "* Properties to hold when performing an F-test\n",
    "\n",
    "1. Data is normally distributed\n",
    "2. The samples are independent of one another, and;\n",
    "3. The population standard deviations of the groups are homoscedastic (the noise is the same across all values of the independent variables).\n",
    "\n",
    "* We can use the Shapiro-Wilks test to test for a null distribution. The null hypothesis for the Shapiro-Wilks test is that the samples are normally distributed. Thus, if the p value is less then 0.05 the null hypothesis is rejected and there is evidence that the data is not normally distributed.\n"
   ]
  },
  {
   "cell_type": "markdown",
   "metadata": {},
   "source": [
    "###  Shapiro-Wilks"
   ]
  },
  {
   "cell_type": "code",
   "execution_count": 57,
   "metadata": {},
   "outputs": [
    {
     "name": "stdout",
     "output_type": "stream",
     "text": [
      "setosa: (0.97171950340271, 0.2715264856815338)\n",
      "versicolor: (0.9741330742835999, 0.33798879384994507)\n",
      "virginica: (0.9673910140991211, 0.1809043288230896)\n"
     ]
    }
   ],
   "source": [
    "# Shapiro-Wilks returns a test statistic and p-value\n",
    "for name in names:\n",
    "    print(\"{}: {}\".format(name, stats.shapiro(df['sepal width (cm)'][df['target'] == name])))"
   ]
  },
  {
   "cell_type": "markdown",
   "metadata": {},
   "source": [
    "### Quantile-Quantile Plot\n",
    "\n",
    "https://www.geeksforgeeks.org/qqplot-quantile-quantile-plot-in-python/\n",
    "\n",
    "\n",
    "https://www.statsmodels.org/stable/generated/statsmodels.graphics.gofplots.qqplot.html\n",
    "\n",
    "* When the quantiles of two variables are plotted against each other, then the plot obtained is known as quantile - quantile plot. The plot provides a summary of whether the distribution of two variables are similar or not with respect to the locations.\n"
   ]
  },
  {
   "cell_type": "code",
   "execution_count": 97,
   "metadata": {},
   "outputs": [],
   "source": [
    "# Data prep\n",
    "setosa_df = df[df['target'].isin(['setosa'])]\n",
    "setosa_df = setosa_df.drop('target', axis=1)"
   ]
  },
  {
   "cell_type": "code",
   "execution_count": 98,
   "metadata": {},
   "outputs": [
    {
     "data": {
      "image/png": "[encoded data removed]",
      "text/plain": [
       "<Figure size 432x288 with 1 Axes>"
      ]
     },
     "metadata": {
      "needs_background": "light"
     },
     "output_type": "display_data"
    }
   ],
   "source": [
    "sm.qqplot(setosa_df['sepal length (cm)'], fit=True, line='45')\n",
    "py.show()"
   ]
  },
  {
   "cell_type": "markdown",
   "metadata": {},
   "source": [
    "### Barlett test\n",
    "\n",
    "* Checks for homoscedasticity. \n",
    "\n",
    "* If we reject the null hypothesis, we can also reject the assumption of homscedasticity.\n",
    "\n",
    "* May produce incorrect results if the data is non-normal."
   ]
  },
  {
   "cell_type": "code",
   "execution_count": 115,
   "metadata": {},
   "outputs": [
    {
     "name": "stdout",
     "output_type": "stream",
     "text": [
      "BartlettResult(statistic=2.0910752014392338, pvalue=0.35150280041580323)\n"
     ]
    }
   ],
   "source": [
    "print(stats.bartlett(df['sepal width (cm)'][df['target'] == 'setosa'], \n",
    "                     df['sepal width (cm)'][df['target'] == 'versicolor'],\n",
    "                     df['sepal width (cm)'][df['target'] == 'virginica']))"
   ]
  },
  {
   "cell_type": "markdown",
   "metadata": {},
   "source": [
    "### Levene test\n",
    "\n",
    "* Checks for homoscedasticity.\n",
    "\n",
    "* Robust to non normal data"
   ]
  },
  {
   "cell_type": "code",
   "execution_count": 116,
   "metadata": {},
   "outputs": [
    {
     "data": {
      "text/plain": [
       "F_onewayResult(statistic=49.160040089612075, pvalue=4.492017133309115e-17)"
      ]
     },
     "execution_count": 116,
     "metadata": {},
     "output_type": "execute_result"
    }
   ],
   "source": [
    "stats.f_oneway(df['sepal width (cm)'][df['target'] == 'setosa'], \n",
    "                     df['sepal width (cm)'][df['target'] == 'versicolor'],\n",
    "                     df['sepal width (cm)'][df['target'] == 'virginica'])"
   ]
  },
  {
   "cell_type": "code",
   "execution_count": 117,
   "metadata": {},
   "outputs": [
    {
     "data": {
      "image/png": "[encoded data removed]",
      "text/plain": [
       "<Figure size 864x576 with 1 Axes>"
      ]
     },
     "metadata": {
      "needs_background": "light"
     },
     "output_type": "display_data"
    }
   ],
   "source": [
    "from scipy.stats import f, norm\n",
    "def plot_f_distrubiton():\n",
    "    # Set figure \n",
    "    plt.figure(figsize=(12, 8))\n",
    "    \n",
    "    # Set degrees of freedom\n",
    "    dfn, dfd = 2, 147\n",
    "    rejection_reg = f.ppf(q=.95, dfn=dfn, dfd=dfd)\n",
    "    mean, var, skew, kurt = f.stats(dfn, dfd, moments='mvsk')\n",
    "    \n",
    "    x = np.linspace(f.ppf(0.01, dfn, dfd), \n",
    "                    f.ppf(0.99, dfn, dfd), 100)\n",
    "    \n",
    "    # Plot values\n",
    "    plt.plot(x, f.pdf(x, dfn, dfd), alpha=0.6, \n",
    "             label=' X ~ F({}, {})'.format(dfn, dfd))\n",
    "    plt.vlines(rejection_reg, 0.0, 1.0, \n",
    "               linestyles=\"dashdot\", label=\"Crit. Value: {:.2f}\".format(rejection_reg))\n",
    "    plt.legend()\n",
    "    plt.title('F-Distribution dfn:{}, dfd:{}'.format(dfn, dfd))\n",
    "plot_f_distrubiton();"
   ]
  },
  {
   "cell_type": "markdown",
   "metadata": {},
   "source": [
    "## Why not multiple t-tests?\n",
    "\n",
    "* If we were comparing one set of samples to a single grouping of the other two, we could use a t-test at 95 percent confidence interval to compare the two values. Type 1 error would be constant at 5%. \n",
    "\n",
    "* However, if we added another comparison and used an additional t-test we're increasing the chance of a Type 1 error.\n",
    "\n"
   ]
  }
 ],
 "metadata": {
  "kernelspec": {
   "display_name": "Python 3",
   "language": "python",
   "name": "python3"
  },
  "language_info": {
   "codemirror_mode": {
    "name": "ipython",
    "version": 3
   },
   "file_extension": ".py",
   "mimetype": "text/x-python",
   "name": "python",
   "nbconvert_exporter": "python",
   "pygments_lexer": "ipython3",
   "version": "3.7.6"
  }
 },
 "nbformat": 4,
 "nbformat_minor": 4
}
